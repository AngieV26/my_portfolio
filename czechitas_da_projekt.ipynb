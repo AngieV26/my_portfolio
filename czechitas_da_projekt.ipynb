{
 "cells": [
  {
   "cell_type": "markdown",
   "metadata": {},
   "source": [
    "# Projekt: zlomeniny způsobené pády pro věkovou kategorii 0-19 let\n",
    "\n",
    "__[Odkaz na blogový článek](https://medium.com/@vackova.anna26/ztracené-roky-zdravého-života-v-důsledku-zlomenin-způsobených-pády-u-dětí-a-mladistvých-1a5fdc5aefc2)__"
   ]
  },
  {
   "cell_type": "code",
   "execution_count": 1,
   "metadata": {},
   "outputs": [],
   "source": [
    "import pandas as pd"
   ]
  },
  {
   "cell_type": "markdown",
   "metadata": {},
   "source": [
    "## Výběr nefatálních pádů pro věkovou kategorii 1-4 z originálního datasetu\n",
    "- Vybíráme případy, které **nekončí umrtím a jejichž ošetření proběhlo ambulantně**, ať už s následnou péčí, či nikoliv\n",
    "- Rozsah originálního datasetu je 34 693 990 řádků a 3,3 GB. Obsahem postihuje všechny úrazy evidované poskytovatelm zdravotní péče a vykázené k úhradě některé ze zdravotních pojišťoven za roky 2010 až 2022"
   ]
  },
  {
   "cell_type": "markdown",
   "metadata": {},
   "source": [
    "### Průzkum dat"
   ]
  },
  {
   "cell_type": "code",
   "execution_count": null,
   "metadata": {},
   "outputs": [],
   "source": [
    "data = pd.read_csv('urazy_originalni_dataset.csv', sep=',', nrows=1000, header=0, encoding=\"utf-8\") # nacte jen 1000 radku ze souboru\n",
    "display(data.head())\n",
    "data.info()\n",
    "data['umrti'].unique()"
   ]
  },
  {
   "cell_type": "markdown",
   "metadata": {},
   "source": [
    "Na základě průzkumu a dřívější práce s daty i doprovodnými meateriály víme, že není mnoho sloupečků, které by měly null-hodnoty. Jedním z těch, který null hodnoty má, je sloupeček pod_kat obsahující příčnu úrazu. V datasetu je 15 196 253 vyplněných případů, u 19 497 737 případů o příčině úrazu nevíme.\n",
    "\n",
    "Dataset nefatálních pádů ošetřených pouze ambulantně pro věkovou skupinu 0-19 let z originálního datasetu vyfilturjeme na základě 4 parametrů:\n",
    "1. hodnota sloupečku pod_kat musí být W00-W19, což je kód pro úraz zapříčeněný pádem\n",
    "2. hodnota sloupečku vek_kat musí obsahovat honoty od 1 do 4\n",
    "3. hodnota sloupečku umrti musí být NULL\n",
    "4. hodnota sloupečku vaznost nesmí být IIa, IIb, IIc, IId"
   ]
  },
  {
   "cell_type": "markdown",
   "metadata": {},
   "source": [
    "### Získání menšího datasetu"
   ]
  },
  {
   "cell_type": "code",
   "execution_count": 5,
   "metadata": {},
   "outputs": [
    {
     "name": "stdout",
     "output_type": "stream",
     "text": [
      "<class 'pandas.core.frame.DataFrame'>\n",
      "RangeIndex: 2449240 entries, 0 to 2449239\n",
      "Data columns (total 37 columns):\n",
      " #   Column         Dtype \n",
      "---  ------         ----- \n",
      " 0   ID_urazu       int64 \n",
      " 1   rok            int64 \n",
      " 2   mesic          int64 \n",
      " 3   pohlavi        int64 \n",
      " 4   vek_kat        int64 \n",
      " 5   kraj_pacient   object\n",
      " 6   kraj_icz       object\n",
      " 7   pod_kat        object\n",
      " 8   polytrauma     int64 \n",
      " 9   operace        int64 \n",
      " 10  dlouha_jip     int64 \n",
      " 11  nasledna_pece  int64 \n",
      " 12  vaznost        object\n",
      " 13  umrti          object\n",
      " 14  S00_S09        int64 \n",
      " 15  S10_S19        int64 \n",
      " 16  S20_S29        int64 \n",
      " 17  S30_S39        int64 \n",
      " 18  S40_S49        int64 \n",
      " 19  S50_S59        int64 \n",
      " 20  S60_S69        int64 \n",
      " 21  S70_S79        int64 \n",
      " 22  S80_S89        int64 \n",
      " 23  S90_S99        int64 \n",
      " 24  T00_T07        int64 \n",
      " 25  T08_T14        int64 \n",
      " 26  T15_T19        int64 \n",
      " 27  T20_T25        int64 \n",
      " 28  T26_T28        int64 \n",
      " 29  T29_T32        int64 \n",
      " 30  T33_T35        int64 \n",
      " 31  T36_T50        int64 \n",
      " 32  T51_T65        int64 \n",
      " 33  T66_T78        int64 \n",
      " 34  T79_T79        int64 \n",
      " 35  T80_T88        int64 \n",
      " 36  T90_T98        int64 \n",
      "dtypes: int64(32), object(5)\n",
      "memory usage: 691.4+ MB\n"
     ]
    }
   ],
   "source": [
    "falls_children_youth = pd.DataFrame()\n",
    "\n",
    "for chunk in pd.read_csv('urazy_originalni_dataset.csv', chunksize=500000, encoding='utf-8', sep=','): \n",
    "    falls = chunk.query('pod_kat == \"W00-W19\" and vek_kat <= 4')\n",
    "    falls_children_youth = pd.concat([falls_children_youth, falls], ignore_index=True)\n",
    "falls_children_youth.info()"
   ]
  },
  {
   "cell_type": "code",
   "execution_count": 6,
   "metadata": {},
   "outputs": [
    {
     "name": "stdout",
     "output_type": "stream",
     "text": [
      "<class 'pandas.core.frame.DataFrame'>\n",
      "Index: 2191259 entries, 0 to 2449239\n",
      "Data columns (total 37 columns):\n",
      " #   Column         Dtype \n",
      "---  ------         ----- \n",
      " 0   ID_urazu       int64 \n",
      " 1   rok            int64 \n",
      " 2   mesic          int64 \n",
      " 3   pohlavi        int64 \n",
      " 4   vek_kat        int64 \n",
      " 5   kraj_pacient   object\n",
      " 6   kraj_icz       object\n",
      " 7   pod_kat        object\n",
      " 8   polytrauma     int64 \n",
      " 9   operace        int64 \n",
      " 10  dlouha_jip     int64 \n",
      " 11  nasledna_pece  int64 \n",
      " 12  vaznost        object\n",
      " 13  umrti          object\n",
      " 14  S00_S09        int64 \n",
      " 15  S10_S19        int64 \n",
      " 16  S20_S29        int64 \n",
      " 17  S30_S39        int64 \n",
      " 18  S40_S49        int64 \n",
      " 19  S50_S59        int64 \n",
      " 20  S60_S69        int64 \n",
      " 21  S70_S79        int64 \n",
      " 22  S80_S89        int64 \n",
      " 23  S90_S99        int64 \n",
      " 24  T00_T07        int64 \n",
      " 25  T08_T14        int64 \n",
      " 26  T15_T19        int64 \n",
      " 27  T20_T25        int64 \n",
      " 28  T26_T28        int64 \n",
      " 29  T29_T32        int64 \n",
      " 30  T33_T35        int64 \n",
      " 31  T36_T50        int64 \n",
      " 32  T51_T65        int64 \n",
      " 33  T66_T78        int64 \n",
      " 34  T79_T79        int64 \n",
      " 35  T80_T88        int64 \n",
      " 36  T90_T98        int64 \n",
      "dtypes: int64(32), object(5)\n",
      "memory usage: 635.3+ MB\n"
     ]
    },
    {
     "data": {
      "text/plain": [
       "None"
      ]
     },
     "metadata": {},
     "output_type": "display_data"
    },
    {
     "data": {
      "text/plain": [
       "vaznost\n",
       "Ia    1155155\n",
       "Ib    1036104\n",
       "Name: count, dtype: int64"
      ]
     },
     "execution_count": 6,
     "metadata": {},
     "output_type": "execute_result"
    }
   ],
   "source": [
    "falls_children_youth_outpatient = falls_children_youth.query('umrti.isnull() and vaznost not in [\"IIa\", \"IIb\", \"IIc\", \"IId\"]')\n",
    "display(falls_children_youth_outpatient.info())\n",
    "falls_children_youth_outpatient['vaznost'].value_counts()"
   ]
  },
  {
   "cell_type": "markdown",
   "metadata": {},
   "source": [
    "Z doprovodného přehledu víme, že originální dataset obsahuje 9 439 539 pádů, z toho 2 449 240 pro věkové kategorie 1-4, tedy 0-19 let. Žádný z těchto případů není fatální a 2 191 259 případů vyžadovalo ambulantní ošetření bez hospitalizace. Z toho 1 036 104 případů se nicméně neobešlo bez následné péče."
   ]
  },
  {
   "cell_type": "markdown",
   "metadata": {},
   "source": [
    "## Redukce nepotřebných sloupečků\n",
    "Jelikož budeme na typ zranění navazovat další dvě proměnné hodnoty (disability weight a healing time), rozhodly jsme se, že zpracujeme pouze typ úrazu zlomenina, což je konec konců jedno z nejčastějších poranění, které děti a mladiství utrpí. Touto redukcí chceme dosáhnout větší přesnosti při budoucím výpočtu DALYs a pevně stanovit podmínky pro lepší komunikaci výsledku.\n"
   ]
  },
  {
   "cell_type": "code",
   "execution_count": null,
   "metadata": {},
   "outputs": [
    {
     "data": {
      "text/plain": [
       "Index(['ID_urazu', 'rok', 'mesic', 'pohlavi', 'vek_kat', 'kraj_pacient',\n",
       "       'kraj_icz', 'pod_kat', 'polytrauma', 'operace', 'dlouha_jip',\n",
       "       'nasledna_pece', 'vaznost', 'umrti', 'S00_S09', 'S10_S19', 'S20_S29',\n",
       "       'S30_S39', 'S40_S49', 'S50_S59', 'S60_S69', 'S70_S79', 'S80_S89',\n",
       "       'S90_S99', 'T00_T07', 'T08_T14', 'T15_T19', 'T20_T25', 'T26_T28',\n",
       "       'T29_T32', 'T33_T35', 'T36_T50', 'T51_T65', 'T66_T78', 'T79_T79',\n",
       "       'T80_T88', 'T90_T98'],\n",
       "      dtype='object')"
      ]
     },
     "metadata": {},
     "output_type": "display_data"
    },
    {
     "name": "stdout",
     "output_type": "stream",
     "text": [
      "   polytrauma  operace  dlouha_jip  umrti\n",
      "0     2191259  2191259     2191259    NaN\n"
     ]
    }
   ],
   "source": [
    "display(falls_children_youth_outpatient.columns)\n",
    "empty_columns_test = falls_children_youth_outpatient[['polytrauma', 'operace', 'dlouha_jip']].apply(pd.Series.value_counts) # zjistuju, jestli jsou tyhle sloupecky skutecne prazdne\n",
    "print(empty_columns_test)"
   ]
  },
  {
   "cell_type": "markdown",
   "metadata": {},
   "source": [
    "Dle očekávání jsou sloupečky polytrauma, operace i dlouha_jip prazdné, neslučují se totiž s ošetřením bez nutnosti hospitalizace. Z dalších sloupečků zachovám jen ty relevantní a ty, které by mohly mít přínos pro budoucí vizualizaci. Z hlediska MKN-10 kódů pro diagnózy (S a T sloupečky) potřebuju zachovat jen veškeré S, které označují jednotlivé čáasti těla, a T00_T07 a T08_T14. Zbylé diagnózy nemohou být zlomeniny, jedná se například o otravy, popáleniny, omrzliny a v několika případech i o mnohočetná a neurčená poranění."
   ]
  },
  {
   "cell_type": "code",
   "execution_count": 17,
   "metadata": {},
   "outputs": [
    {
     "data": {
      "text/html": [
       "<div>\n",
       "<style scoped>\n",
       "    .dataframe tbody tr th:only-of-type {\n",
       "        vertical-align: middle;\n",
       "    }\n",
       "\n",
       "    .dataframe tbody tr th {\n",
       "        vertical-align: top;\n",
       "    }\n",
       "\n",
       "    .dataframe thead th {\n",
       "        text-align: right;\n",
       "    }\n",
       "</style>\n",
       "<table border=\"1\" class=\"dataframe\">\n",
       "  <thead>\n",
       "    <tr style=\"text-align: right;\">\n",
       "      <th></th>\n",
       "      <th>ID_urazu</th>\n",
       "      <th>rok</th>\n",
       "      <th>mesic</th>\n",
       "      <th>pohlavi</th>\n",
       "      <th>vek_kat</th>\n",
       "      <th>kraj_pacient</th>\n",
       "      <th>nasledna_pece</th>\n",
       "      <th>vaznost</th>\n",
       "      <th>S00_S09</th>\n",
       "      <th>S10_S19</th>\n",
       "      <th>S20_S29</th>\n",
       "      <th>S30_S39</th>\n",
       "      <th>S40_S49</th>\n",
       "      <th>S50_S59</th>\n",
       "      <th>S60_S69</th>\n",
       "      <th>S70_S79</th>\n",
       "      <th>S80_S89</th>\n",
       "      <th>S90_S99</th>\n",
       "      <th>T00_T07</th>\n",
       "      <th>T08_T14</th>\n",
       "    </tr>\n",
       "  </thead>\n",
       "  <tbody>\n",
       "    <tr>\n",
       "      <th>0</th>\n",
       "      <td>33557641</td>\n",
       "      <td>2011</td>\n",
       "      <td>4</td>\n",
       "      <td>1</td>\n",
       "      <td>4</td>\n",
       "      <td>CZ099</td>\n",
       "      <td>1</td>\n",
       "      <td>Ib</td>\n",
       "      <td>0</td>\n",
       "      <td>0</td>\n",
       "      <td>0</td>\n",
       "      <td>0</td>\n",
       "      <td>0</td>\n",
       "      <td>0</td>\n",
       "      <td>0</td>\n",
       "      <td>0</td>\n",
       "      <td>0</td>\n",
       "      <td>1</td>\n",
       "      <td>0</td>\n",
       "      <td>0</td>\n",
       "    </tr>\n",
       "    <tr>\n",
       "      <th>1</th>\n",
       "      <td>33557659</td>\n",
       "      <td>2021</td>\n",
       "      <td>5</td>\n",
       "      <td>2</td>\n",
       "      <td>2</td>\n",
       "      <td>CZ053</td>\n",
       "      <td>1</td>\n",
       "      <td>Ib</td>\n",
       "      <td>0</td>\n",
       "      <td>0</td>\n",
       "      <td>0</td>\n",
       "      <td>0</td>\n",
       "      <td>0</td>\n",
       "      <td>0</td>\n",
       "      <td>0</td>\n",
       "      <td>0</td>\n",
       "      <td>0</td>\n",
       "      <td>1</td>\n",
       "      <td>0</td>\n",
       "      <td>0</td>\n",
       "    </tr>\n",
       "    <tr>\n",
       "      <th>2</th>\n",
       "      <td>33557688</td>\n",
       "      <td>2010</td>\n",
       "      <td>2</td>\n",
       "      <td>1</td>\n",
       "      <td>3</td>\n",
       "      <td>CZ080</td>\n",
       "      <td>0</td>\n",
       "      <td>Ia</td>\n",
       "      <td>1</td>\n",
       "      <td>0</td>\n",
       "      <td>0</td>\n",
       "      <td>0</td>\n",
       "      <td>0</td>\n",
       "      <td>0</td>\n",
       "      <td>0</td>\n",
       "      <td>0</td>\n",
       "      <td>0</td>\n",
       "      <td>0</td>\n",
       "      <td>0</td>\n",
       "      <td>0</td>\n",
       "    </tr>\n",
       "    <tr>\n",
       "      <th>3</th>\n",
       "      <td>33557698</td>\n",
       "      <td>2016</td>\n",
       "      <td>5</td>\n",
       "      <td>1</td>\n",
       "      <td>1</td>\n",
       "      <td>CZ080</td>\n",
       "      <td>0</td>\n",
       "      <td>Ia</td>\n",
       "      <td>0</td>\n",
       "      <td>0</td>\n",
       "      <td>0</td>\n",
       "      <td>0</td>\n",
       "      <td>0</td>\n",
       "      <td>0</td>\n",
       "      <td>0</td>\n",
       "      <td>0</td>\n",
       "      <td>1</td>\n",
       "      <td>0</td>\n",
       "      <td>0</td>\n",
       "      <td>0</td>\n",
       "    </tr>\n",
       "    <tr>\n",
       "      <th>4</th>\n",
       "      <td>33557701</td>\n",
       "      <td>2021</td>\n",
       "      <td>9</td>\n",
       "      <td>1</td>\n",
       "      <td>2</td>\n",
       "      <td>CZ080</td>\n",
       "      <td>0</td>\n",
       "      <td>Ia</td>\n",
       "      <td>0</td>\n",
       "      <td>0</td>\n",
       "      <td>1</td>\n",
       "      <td>0</td>\n",
       "      <td>0</td>\n",
       "      <td>0</td>\n",
       "      <td>0</td>\n",
       "      <td>0</td>\n",
       "      <td>0</td>\n",
       "      <td>0</td>\n",
       "      <td>0</td>\n",
       "      <td>0</td>\n",
       "    </tr>\n",
       "    <tr>\n",
       "      <th>...</th>\n",
       "      <td>...</td>\n",
       "      <td>...</td>\n",
       "      <td>...</td>\n",
       "      <td>...</td>\n",
       "      <td>...</td>\n",
       "      <td>...</td>\n",
       "      <td>...</td>\n",
       "      <td>...</td>\n",
       "      <td>...</td>\n",
       "      <td>...</td>\n",
       "      <td>...</td>\n",
       "      <td>...</td>\n",
       "      <td>...</td>\n",
       "      <td>...</td>\n",
       "      <td>...</td>\n",
       "      <td>...</td>\n",
       "      <td>...</td>\n",
       "      <td>...</td>\n",
       "      <td>...</td>\n",
       "      <td>...</td>\n",
       "    </tr>\n",
       "    <tr>\n",
       "      <th>2449235</th>\n",
       "      <td>20969837</td>\n",
       "      <td>2011</td>\n",
       "      <td>2</td>\n",
       "      <td>2</td>\n",
       "      <td>4</td>\n",
       "      <td>CZ042</td>\n",
       "      <td>0</td>\n",
       "      <td>Ia</td>\n",
       "      <td>0</td>\n",
       "      <td>0</td>\n",
       "      <td>0</td>\n",
       "      <td>0</td>\n",
       "      <td>0</td>\n",
       "      <td>0</td>\n",
       "      <td>0</td>\n",
       "      <td>0</td>\n",
       "      <td>0</td>\n",
       "      <td>1</td>\n",
       "      <td>0</td>\n",
       "      <td>0</td>\n",
       "    </tr>\n",
       "    <tr>\n",
       "      <th>2449236</th>\n",
       "      <td>20969984</td>\n",
       "      <td>2018</td>\n",
       "      <td>8</td>\n",
       "      <td>1</td>\n",
       "      <td>2</td>\n",
       "      <td>CZ032</td>\n",
       "      <td>0</td>\n",
       "      <td>Ia</td>\n",
       "      <td>0</td>\n",
       "      <td>0</td>\n",
       "      <td>0</td>\n",
       "      <td>0</td>\n",
       "      <td>0</td>\n",
       "      <td>0</td>\n",
       "      <td>0</td>\n",
       "      <td>0</td>\n",
       "      <td>1</td>\n",
       "      <td>0</td>\n",
       "      <td>0</td>\n",
       "      <td>0</td>\n",
       "    </tr>\n",
       "    <tr>\n",
       "      <th>2449237</th>\n",
       "      <td>20969987</td>\n",
       "      <td>2022</td>\n",
       "      <td>7</td>\n",
       "      <td>1</td>\n",
       "      <td>3</td>\n",
       "      <td>CZ032</td>\n",
       "      <td>1</td>\n",
       "      <td>Ib</td>\n",
       "      <td>1</td>\n",
       "      <td>0</td>\n",
       "      <td>0</td>\n",
       "      <td>0</td>\n",
       "      <td>0</td>\n",
       "      <td>0</td>\n",
       "      <td>0</td>\n",
       "      <td>0</td>\n",
       "      <td>0</td>\n",
       "      <td>0</td>\n",
       "      <td>0</td>\n",
       "      <td>0</td>\n",
       "    </tr>\n",
       "    <tr>\n",
       "      <th>2449238</th>\n",
       "      <td>20970160</td>\n",
       "      <td>2016</td>\n",
       "      <td>9</td>\n",
       "      <td>1</td>\n",
       "      <td>2</td>\n",
       "      <td>CZ020</td>\n",
       "      <td>0</td>\n",
       "      <td>Ia</td>\n",
       "      <td>0</td>\n",
       "      <td>0</td>\n",
       "      <td>0</td>\n",
       "      <td>0</td>\n",
       "      <td>0</td>\n",
       "      <td>0</td>\n",
       "      <td>0</td>\n",
       "      <td>0</td>\n",
       "      <td>0</td>\n",
       "      <td>1</td>\n",
       "      <td>0</td>\n",
       "      <td>0</td>\n",
       "    </tr>\n",
       "    <tr>\n",
       "      <th>2449239</th>\n",
       "      <td>20970275</td>\n",
       "      <td>2010</td>\n",
       "      <td>4</td>\n",
       "      <td>2</td>\n",
       "      <td>1</td>\n",
       "      <td>CZ063</td>\n",
       "      <td>0</td>\n",
       "      <td>Ia</td>\n",
       "      <td>1</td>\n",
       "      <td>0</td>\n",
       "      <td>0</td>\n",
       "      <td>0</td>\n",
       "      <td>0</td>\n",
       "      <td>0</td>\n",
       "      <td>0</td>\n",
       "      <td>0</td>\n",
       "      <td>0</td>\n",
       "      <td>0</td>\n",
       "      <td>0</td>\n",
       "      <td>0</td>\n",
       "    </tr>\n",
       "  </tbody>\n",
       "</table>\n",
       "<p>2151809 rows × 20 columns</p>\n",
       "</div>"
      ],
      "text/plain": [
       "         ID_urazu   rok  mesic  pohlavi  vek_kat kraj_pacient  nasledna_pece  \\\n",
       "0        33557641  2011      4        1        4        CZ099              1   \n",
       "1        33557659  2021      5        2        2        CZ053              1   \n",
       "2        33557688  2010      2        1        3        CZ080              0   \n",
       "3        33557698  2016      5        1        1        CZ080              0   \n",
       "4        33557701  2021      9        1        2        CZ080              0   \n",
       "...           ...   ...    ...      ...      ...          ...            ...   \n",
       "2449235  20969837  2011      2        2        4        CZ042              0   \n",
       "2449236  20969984  2018      8        1        2        CZ032              0   \n",
       "2449237  20969987  2022      7        1        3        CZ032              1   \n",
       "2449238  20970160  2016      9        1        2        CZ020              0   \n",
       "2449239  20970275  2010      4        2        1        CZ063              0   \n",
       "\n",
       "        vaznost  S00_S09  S10_S19  S20_S29  S30_S39  S40_S49  S50_S59  \\\n",
       "0            Ib        0        0        0        0        0        0   \n",
       "1            Ib        0        0        0        0        0        0   \n",
       "2            Ia        1        0        0        0        0        0   \n",
       "3            Ia        0        0        0        0        0        0   \n",
       "4            Ia        0        0        1        0        0        0   \n",
       "...         ...      ...      ...      ...      ...      ...      ...   \n",
       "2449235      Ia        0        0        0        0        0        0   \n",
       "2449236      Ia        0        0        0        0        0        0   \n",
       "2449237      Ib        1        0        0        0        0        0   \n",
       "2449238      Ia        0        0        0        0        0        0   \n",
       "2449239      Ia        1        0        0        0        0        0   \n",
       "\n",
       "         S60_S69  S70_S79  S80_S89  S90_S99  T00_T07  T08_T14  \n",
       "0              0        0        0        1        0        0  \n",
       "1              0        0        0        1        0        0  \n",
       "2              0        0        0        0        0        0  \n",
       "3              0        0        1        0        0        0  \n",
       "4              0        0        0        0        0        0  \n",
       "...          ...      ...      ...      ...      ...      ...  \n",
       "2449235        0        0        0        1        0        0  \n",
       "2449236        0        0        1        0        0        0  \n",
       "2449237        0        0        0        0        0        0  \n",
       "2449238        0        0        0        1        0        0  \n",
       "2449239        0        0        0        0        0        0  \n",
       "\n",
       "[2151809 rows x 20 columns]"
      ]
     },
     "execution_count": 17,
     "metadata": {},
     "output_type": "execute_result"
    }
   ],
   "source": [
    "df_selected_columns = falls_children_youth_outpatient[\n",
    "    [\n",
    "        'ID_urazu', 'rok', 'mesic', 'pohlavi', 'vek_kat', 'kraj_pacient',\n",
    "        'nasledna_pece', 'vaznost', 'S00_S09', 'S10_S19', 'S20_S29',\n",
    "        'S30_S39', 'S40_S49', 'S50_S59', 'S60_S69', 'S70_S79', 'S80_S89',\n",
    "        'S90_S99', 'T00_T07', 'T08_T14'\n",
    "    ]\n",
    "].copy()\n",
    "df_selected_rows = df_selected_columns.query(\n",
    "    'S00_S09 == 1 or S10_S19 == 1 or S20_S29 == 1 or S30_S39 == 1 or '\n",
    "    'S40_S49 == 1 or S50_S59 == 1 or S60_S69 == 1 or S70_S79 == 1 or '\n",
    "    'S80_S89 == 1 or S90_S99 == 1 or T00_T07 == 1 or T08_T14 == 1'\n",
    ").copy()\n",
    "\n",
    "df_selected_rows"
   ]
  },
  {
   "cell_type": "markdown",
   "metadata": {},
   "source": [
    "Výsledkem je tabulka o 19 sloupečcách a 2 151 406 řádcích."
   ]
  },
  {
   "cell_type": "markdown",
   "metadata": {},
   "source": [
    "## Diagnózy\n",
    "Jako další krok bude potřeba zmenšit tabulky diagnóz, aby korespondovaly s naší výsečí dat a dostat se ideálně na co nejpřesnější hodnotu MKN, ke které dohledáme konstanty disability weights."
   ]
  },
  {
   "cell_type": "markdown",
   "metadata": {},
   "source": [
    "### Diagnózy S\n",
    "- Původní velikost 34 716 517 řádků a 2,41 GB\n",
    "- Váže se na dataset úrazů a poskytuje detailnější infomrace o poranění"
   ]
  },
  {
   "cell_type": "code",
   "execution_count": 10,
   "metadata": {},
   "outputs": [
    {
     "name": "stdout",
     "output_type": "stream",
     "text": [
      "<class 'pandas.core.frame.DataFrame'>\n",
      "RangeIndex: 1000 entries, 0 to 999\n",
      "Data columns (total 17 columns):\n",
      " #   Column                                             Non-Null Count  Dtype \n",
      "---  ------                                             --------------  ----- \n",
      " 0   ID_urazu                                           1000 non-null   int64 \n",
      " 1   MKN2                                               1000 non-null   object\n",
      " 2   povrchni_poraneni                                  1000 non-null   int64 \n",
      " 3   otevrena_rana                                      1000 non-null   int64 \n",
      " 4   zlomenina                                          1000 non-null   int64 \n",
      " 5   vymknuti_podvrtnuti_a_nataženi_kloubu_a_vazu       1000 non-null   int64 \n",
      " 6   poraneni_nervu                                     1000 non-null   int64 \n",
      " 7   poraneni_krevnich_cev                              1000 non-null   int64 \n",
      " 8   poraneni_svalu_a_slachy                            1000 non-null   int64 \n",
      " 9   nitrolebni_poraneni                                1000 non-null   int64 \n",
      " 10  poraneni_srdce                                     1000 non-null   int64 \n",
      " 11  poraneni_nitrobrisnich_organu                      1000 non-null   int64 \n",
      " 12  poraneni_jinych_a_neurcenych_nitrohrudnich_organu  1000 non-null   int64 \n",
      " 13  poraneni_mocovych_a_panevnich_organu               1000 non-null   int64 \n",
      " 14  drtive_poraneni                                    1000 non-null   int64 \n",
      " 15  urazova_amputace                                   1000 non-null   int64 \n",
      " 16  jina_a_neurcena_poraneni                           1000 non-null   int64 \n",
      "dtypes: int64(16), object(1)\n",
      "memory usage: 132.9+ KB\n"
     ]
    }
   ],
   "source": [
    "input = pd.read_csv('diagnozy_s.csv', nrows=1000, encoding='utf-8', sep=',')\n",
    "input.info()"
   ]
  },
  {
   "cell_type": "markdown",
   "metadata": {},
   "source": [
    "Soubor zpracujeme ve 3 krocích:\n",
    "1. Zajístíme, aby výsledná tabulka obsahovala jen ID_urazu korespondující s naším pracovním datasetem\n",
    "2. Vybereme si jen ty řádky, které mají hodnotu 1 (True) pro typ poranění zlomenina\n",
    "3. Zbavíme se nepotřebných sloupčeků"
   ]
  },
  {
   "cell_type": "code",
   "execution_count": 18,
   "metadata": {},
   "outputs": [
    {
     "data": {
      "text/plain": [
       "MKN2\n",
       "S5 Poranění lokte a předloktí                                  154877\n",
       "S6 Poranění zápěstí a ruky                                     115024\n",
       "S9 Poranění kotníku a nohy pod ním                              67729\n",
       "S4 Poranění ramene a paže (nadloktí)                            66005\n",
       "S8 Poranění kolena a bérce                                      55600\n",
       "S0 Poranění hlavy                                               20058\n",
       "S7 Poranění kyčle a stehna                                       6691\n",
       "S2 Poranění hrudníku                                             5536\n",
       "S3 Poranění břicha‚ dolní části zad‚ bederní páteře a pánve      4416\n",
       "S1 Poranění krku                                                  478\n",
       "Name: count, dtype: int64"
      ]
     },
     "metadata": {},
     "output_type": "display_data"
    },
    {
     "name": "stdout",
     "output_type": "stream",
     "text": [
      "<class 'pandas.core.frame.DataFrame'>\n",
      "RangeIndex: 496414 entries, 0 to 496413\n",
      "Data columns (total 3 columns):\n",
      " #   Column     Non-Null Count   Dtype \n",
      "---  ------     --------------   ----- \n",
      " 0   ID_urazu   496414 non-null  int64 \n",
      " 1   MKN2       496414 non-null  object\n",
      " 2   zlomenina  496414 non-null  int64 \n",
      "dtypes: int64(2), object(1)\n",
      "memory usage: 11.4+ MB\n"
     ]
    }
   ],
   "source": [
    "diagnosis_s = pd.DataFrame()\n",
    "for chunk_s in pd.read_csv('diagnozy_s.csv', chunksize=500000, encoding='utf-8', sep=','):\n",
    "    filter_s = chunk_s['ID_urazu'].isin(df_selected_rows['ID_urazu']) & (chunk_s['zlomenina'] == 1)\n",
    "    filtered_chunk_s = chunk_s[filter_s]\n",
    "    diagnosis_s = pd.concat([diagnosis_s, filtered_chunk_s[['ID_urazu', 'MKN2', 'zlomenina']]], ignore_index=True)\n",
    "display(diagnosis_s['MKN2'].value_counts())\n",
    "diagnosis_s.info()"
   ]
  },
  {
   "cell_type": "markdown",
   "metadata": {},
   "source": [
    "Výsledkem je 496 414 záznamů. V dalším kroku odebereme sloupeček zlomenina, protože všechny řádky v našem novém datasetu S diagnóz jsou zlomeniny. Zároveň nahradíme hodnoty ze sloupečku MKN2 za konkrétní kódy. S0 až S9 označuje postiženou část těla a zlomenina má v číselníku MKN-10 vždy číslo 2, potřebujeme tedy zachovat 2 první znaky v buňkách sloupečku MKN2 a přidat k nim číslici 2."
   ]
  },
  {
   "cell_type": "code",
   "execution_count": 12,
   "metadata": {},
   "outputs": [],
   "source": [
    "diagnosis_s_to_mkn_code = diagnosis_s.drop(columns=['zlomenina'])\n",
    "diagnosis_s_to_mkn_code['MKN2'] = diagnosis_s_to_mkn_code['MKN2'].str[:2] + '2'"
   ]
  },
  {
   "cell_type": "code",
   "execution_count": 9,
   "metadata": {},
   "outputs": [],
   "source": [
    "diagnosis_s_to_mkn_code.to_csv('diagnozy_s_zlomeniny.csv', sep=',', index=False, encoding='utf-8')"
   ]
  },
  {
   "cell_type": "markdown",
   "metadata": {},
   "source": [
    "### Diagnózy T\n",
    "- Původní velikost 7 223 230 řádků a 364 MB\n",
    "- Z hlediska zlomenin obsahuje záznamy o mnohočetných a blíže neurčených zlomeninách\n",
    "\n",
    "Víme, že Diagnózy T taky obsahují zlomeniny, nicméně může se ukázat, že jsou popisy poranění příliš vágní, nebo je poranění příliš komplexní pro připojení k našemu výzkumu."
   ]
  },
  {
   "cell_type": "code",
   "execution_count": 19,
   "metadata": {},
   "outputs": [
    {
     "name": "stdout",
     "output_type": "stream",
     "text": [
      "<class 'pandas.core.frame.DataFrame'>\n",
      "RangeIndex: 708 entries, 0 to 707\n",
      "Data columns (total 2 columns):\n",
      " #   Column    Non-Null Count  Dtype \n",
      "---  ------    --------------  ----- \n",
      " 0   ID_urazu  708 non-null    int64 \n",
      " 1   MKN10     708 non-null    object\n",
      "dtypes: int64(1), object(1)\n",
      "memory usage: 11.2+ KB\n"
     ]
    },
    {
     "data": {
      "text/plain": [
       "None"
      ]
     },
     "metadata": {},
     "output_type": "display_data"
    },
    {
     "data": {
      "text/plain": [
       "array(['T02 Zlomeniny postihující více částí těla',\n",
       "       'T0200 Zlomeniny hlavy s krkem; zavřená',\n",
       "       'T0210 Zlomeniny postihující hrudník s dolní částí zad a pánve; zavřená',\n",
       "       'T022 Zlomeniny postihující více částí jedné horní končetiny',\n",
       "       'T0220 Zlomeniny více částí jedné horní končetiny; zavřená',\n",
       "       'T0221 Zlomeniny více částí jedné horní končetiny; otevřená',\n",
       "       'T023 Zlomeniny postihující více částí jedné dolní končetiny',\n",
       "       'T0230 Zlomeniny více částí jedné dolní končetiny; zavřená',\n",
       "       'T024 Zlomeniny postihující více částí obou horních končetin',\n",
       "       'T0240 Zlomeniny více částí obou horních končetin; zavřená',\n",
       "       'T0250 Zlomeniny více částí obou dolních končetin; zavřená',\n",
       "       'T0260 Zlomeniny více částí HK s DK; zavřená',\n",
       "       'T0261 Zlomeniny více částí HK s DK; otevřená',\n",
       "       'T028 Zlomeniny postihující jinak kombinované části těla',\n",
       "       'T0280 Zlomeniny jinak kombinovaných části těla; zavřená',\n",
       "       'T029 Mnohočetné zlomeniny NS',\n",
       "       'T0290 Mnohočetné zlomeniny NS; zavřená',\n",
       "       'T0291 Mnohočetné zlomeniny NS; otevřená',\n",
       "       'T08 Zlomenina páteře, úroveň neurčena',\n",
       "       'T080 Zlomenina páteře, úroveň neurčena; zavřená',\n",
       "       'T081 Zlomenina páteře, úroveň neurčena; otevřená',\n",
       "       'T10 Zlomenina horní končetiny, úroveň neurčena',\n",
       "       'T100 Zlomenina horní končetiny, úroveň neurčena; zavřená',\n",
       "       'T101 Zlomenina horní končetiny, úroveň neurčena; oteřená',\n",
       "       'T12 Zlomenina dolní končetiny, úroveň neurčena',\n",
       "       'T120 Zlomenina dolní končetiny, úroveň neurčena; zavřená',\n",
       "       'T121 Zlomenina dolní končetiny, úroveň neurčena; otevřená'],\n",
       "      dtype=object)"
      ]
     },
     "execution_count": 19,
     "metadata": {},
     "output_type": "execute_result"
    }
   ],
   "source": [
    "diagnosis_t = pd.DataFrame()\n",
    "for chunk_t in pd.read_csv('diagnozy_t.csv', chunksize=500000, encoding='utf-8', sep=','):\n",
    "    id_filter = chunk_t['ID_urazu'].isin(df_selected_rows['ID_urazu'])\n",
    "    mkn10_filter = chunk_t['MKN10'].str[:3].isin([\"T02\", \"T08\", \"T10\", \"T12\"])\n",
    "    filter_t = id_filter & mkn10_filter\n",
    "    diagnosis_t = pd.concat([diagnosis_t, chunk_t[filter_t]], ignore_index=True)\n",
    "display(diagnosis_t.info())    \n",
    "diagnosis_t['MKN10'].unique()"
   ]
  },
  {
   "cell_type": "markdown",
   "metadata": {},
   "source": [
    " Vzniklých 708 hodnot dále očistíme o mnohočetné a otevřené zlomeniny. Důvodem je, že otevřené zlomeniny a mnohočetná poranění představují takový druh komorbidity, pro který nebudeme schopné na základě dostupných infomrací dopočítat průměrnou dobu uzdravení a disability weight."
   ]
  },
  {
   "cell_type": "code",
   "execution_count": 27,
   "metadata": {},
   "outputs": [
    {
     "name": "stdout",
     "output_type": "stream",
     "text": [
      "<class 'pandas.core.frame.DataFrame'>\n",
      "Index: 502 entries, 183 to 702\n",
      "Data columns (total 2 columns):\n",
      " #   Column    Non-Null Count  Dtype \n",
      "---  ------    --------------  ----- \n",
      " 0   ID_urazu  502 non-null    int64 \n",
      " 1   MKN10     502 non-null    object\n",
      "dtypes: int64(1), object(1)\n",
      "memory usage: 11.8+ KB\n"
     ]
    },
    {
     "data": {
      "text/plain": [
       "None"
      ]
     },
     "metadata": {},
     "output_type": "display_data"
    },
    {
     "data": {
      "text/plain": [
       "array(['T08 Zlomenina páteře, úroveň neurčena',\n",
       "       'T080 Zlomenina páteře, úroveň neurčena; zavřená',\n",
       "       'T10 Zlomenina horní končetiny, úroveň neurčena',\n",
       "       'T100 Zlomenina horní končetiny, úroveň neurčena; zavřená',\n",
       "       'T12 Zlomenina dolní končetiny, úroveň neurčena',\n",
       "       'T120 Zlomenina dolní končetiny, úroveň neurčena; zavřená'],\n",
       "      dtype=object)"
      ]
     },
     "execution_count": 27,
     "metadata": {},
     "output_type": "execute_result"
    }
   ],
   "source": [
    "diagnosis_t_filtered = diagnosis_t[diagnosis_t['MKN10'].str.contains('otevřená|oteřená|zlomeniny|Zlomeniny')==False]\n",
    "display(diagnosis_t_filtered.info())\n",
    "diagnosis_t_filtered['MKN10'].unique()"
   ]
  },
  {
   "cell_type": "code",
   "execution_count": 28,
   "metadata": {},
   "outputs": [],
   "source": [
    "diagnosis_t_filtered.to_csv('diagnozy_t_zlomeniny.csv', sep=',', index=False, encoding='utf-8')"
   ]
  },
  {
   "cell_type": "markdown",
   "metadata": {},
   "source": [
    "## Další redukce hlavního datasetu na základě profiltrovaných diagnóz\n",
    "\n",
    "Po zpracování datasetů diagnóz se vracíme zpět k hlavnímu datasetu úrazů. Tím, že jsme si v datasetech diagnóz vybraly pouze případy splňující definované parametry, můžeme na základě ID_urazu zpětně zmenšit hlavní dataset."
   ]
  },
  {
   "cell_type": "code",
   "execution_count": 46,
   "metadata": {},
   "outputs": [
    {
     "data": {
      "text/plain": [
       "(472157, 20)"
      ]
     },
     "execution_count": 46,
     "metadata": {},
     "output_type": "execute_result"
    }
   ],
   "source": [
    "filter = df_selected_rows['ID_urazu'].isin(diagnosis_s['ID_urazu']) | df_selected_rows['ID_urazu'].isin(diagnosis_t_filtered['ID_urazu'])\n",
    "injuries_children_youth_fractures = df_selected_rows[filter]\n",
    "injuries_children_youth_fractures.shape"
   ]
  },
  {
   "cell_type": "code",
   "execution_count": 47,
   "metadata": {},
   "outputs": [],
   "source": [
    "injuries_children_youth_fractures.to_csv('pady_deti_mladistvi_fraktury.csv', sep=',', index=False, encoding='utf-8')"
   ]
  },
  {
   "cell_type": "markdown",
   "metadata": {},
   "source": [
    "### Update: Dodatečné vyloučení T diagnóz a přepis hlavního datasetu\n",
    "\n",
    "Po domluvě s projektovou parťačkou jsme se rozhodly diagnózy T z našeho výzkumu zcela vyloučit. Popis poranění není dost specifický.\n"
   ]
  },
  {
   "cell_type": "code",
   "execution_count": 48,
   "metadata": {},
   "outputs": [
    {
     "data": {
      "text/plain": [
       "(472000, 18)"
      ]
     },
     "execution_count": 48,
     "metadata": {},
     "output_type": "execute_result"
    }
   ],
   "source": [
    "df_including_t_diagnosis = pd.read_csv('pady_deti_mladistvi_fraktury.csv', sep=',', encoding='utf-8')\n",
    "s_diagnosis = pd.read_csv('diagnozy_s_zlomeniny.csv', sep=',', encoding='utf-8')\n",
    "filter = df_including_t_diagnosis['ID_urazu'].isin(s_diagnosis['ID_urazu'])\n",
    "injuries_children_youth_fractures_s = df_including_t_diagnosis[filter].drop(columns=['T00_T07', 'T08_T14'])\n",
    "injuries_children_youth_fractures_s.shape"
   ]
  },
  {
   "cell_type": "code",
   "execution_count": null,
   "metadata": {},
   "outputs": [],
   "source": [
    "injuries_children_youth_fractures_s.to_csv('pady_deti_mladistvi_fraktury.csv', sep=',', index=False, encoding='utf-8')"
   ]
  }
 ],
 "metadata": {
  "kernelspec": {
   "display_name": "Python 3",
   "language": "python",
   "name": "python3"
  },
  "language_info": {
   "codemirror_mode": {
    "name": "ipython",
    "version": 3
   },
   "file_extension": ".py",
   "mimetype": "text/x-python",
   "name": "python",
   "nbconvert_exporter": "python",
   "pygments_lexer": "ipython3",
   "version": "3.12.5"
  }
 },
 "nbformat": 4,
 "nbformat_minor": 2
}

